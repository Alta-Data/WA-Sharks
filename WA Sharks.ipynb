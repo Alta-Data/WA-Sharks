{
 "cells": [
  {
   "cell_type": "markdown",
   "metadata": {},
   "source": [
    "# Introduction"
   ]
  },
  {
   "cell_type": "markdown",
   "metadata": {},
   "source": [
    "# Data Cleaning"
   ]
  },
  {
   "cell_type": "code",
   "execution_count": 1,
   "metadata": {},
   "outputs": [
    {
     "name": "stdout",
     "output_type": "stream",
     "text": [
      "<class 'pandas.core.frame.DataFrame'>\n",
      "RangeIndex: 14919 entries, 0 to 14918\n",
      "Data columns (total 17 columns):\n",
      " #   Column                Non-Null Count  Dtype  \n",
      "---  ------                --------------  -----  \n",
      " 0   RawDataId             14919 non-null  int64  \n",
      " 1   ObjectId              14919 non-null  object \n",
      " 2   Distance              11417 non-null  object \n",
      " 3   DistanceUnit          11326 non-null  object \n",
      " 4   InteractionValue      14919 non-null  object \n",
      " 5   InteractionId         14919 non-null  object \n",
      " 6   TownProximity         11704 non-null  object \n",
      " 7   LocationValue         14919 non-null  object \n",
      " 8   SightingNumbervalue   10127 non-null  object \n",
      " 9   ReportDateTime        676 non-null    object \n",
      " 10  SightingDateTime      14919 non-null  object \n",
      " 11  SightingSizeValue     11404 non-null  object \n",
      " 12  SightingSpeciesValue  14919 non-null  object \n",
      " 13  OwnerValue            14918 non-null  object \n",
      " 14  LocationDetail        10731 non-null  object \n",
      " 15  LocationX             14919 non-null  float64\n",
      " 16  LocationY             14919 non-null  float64\n",
      "dtypes: float64(2), int64(1), object(14)\n",
      "memory usage: 1.9+ MB\n",
      "None\n"
     ]
    }
   ],
   "source": [
    "import pandas as pd\n",
    "import numpy as np\n",
    "import requests\n",
    "import json\n",
    "import matplotlib.pyplot as plt\n",
    "\n",
    "#Call API\n",
    "shark_req = requests.get('http://api.fish.wa.gov.au/webapi/v1/RawData')\n",
    "#convert to dataframe\n",
    "shark_df = pd.DataFrame(data=shark_req.json())\n",
    "\n",
    "print(shark_df.info())"
   ]
  },
  {
   "cell_type": "markdown",
   "metadata": {},
   "source": [
    "Looking at this overview we can see there are some columns with missing values which will need to be explored. The majority of the columns are also object type and some will need to be converted to a different type. Lets first explore which columns will be relevant to us for this analysis, so we dont waste time cleaning columns tht arent required\n",
    "\n",
    "Here is the documentation for what each column is for:\n",
    "http://api.fish.wa.gov.au/getattachment/webapi/JSON-API-Data-v1/RawDataEndpoint/RawDataDataset.pdf.aspx?lang=en-AU\n",
    "\n",
    "I am not interested in what time the sightings were reported, so i will drop this column<br>\n",
    "As I am only interested in sightings I do not need to know the location detail and will drop this column<br>\n",
    "Because the location coordinates are given I am not interested in the location value and this will be dropped"
   ]
  },
  {
   "cell_type": "code",
   "execution_count": 2,
   "metadata": {},
   "outputs": [],
   "source": [
    "shark_df = shark_df.drop(['LocationValue', 'ReportDateTime','LocationDetail', 'TownProximity', 'SightingSizeValue'], axis=1)"
   ]
  },
  {
   "cell_type": "markdown",
   "metadata": {},
   "source": [
    "We will start by looking at the 'SightingDateTime'column."
   ]
  },
  {
   "cell_type": "code",
   "execution_count": 3,
   "metadata": {},
   "outputs": [
    {
     "data": {
      "text/html": [
       "<div>\n",
       "<style scoped>\n",
       "    .dataframe tbody tr th:only-of-type {\n",
       "        vertical-align: middle;\n",
       "    }\n",
       "\n",
       "    .dataframe tbody tr th {\n",
       "        vertical-align: top;\n",
       "    }\n",
       "\n",
       "    .dataframe thead th {\n",
       "        text-align: right;\n",
       "    }\n",
       "</style>\n",
       "<table border=\"1\" class=\"dataframe\">\n",
       "  <thead>\n",
       "    <tr style=\"text-align: right;\">\n",
       "      <th></th>\n",
       "      <th>RawDataId</th>\n",
       "      <th>ObjectId</th>\n",
       "      <th>Distance</th>\n",
       "      <th>DistanceUnit</th>\n",
       "      <th>InteractionValue</th>\n",
       "      <th>InteractionId</th>\n",
       "      <th>SightingNumbervalue</th>\n",
       "      <th>SightingDateTime</th>\n",
       "      <th>SightingSpeciesValue</th>\n",
       "      <th>OwnerValue</th>\n",
       "      <th>LocationX</th>\n",
       "      <th>LocationY</th>\n",
       "    </tr>\n",
       "  </thead>\n",
       "  <tbody>\n",
       "    <tr>\n",
       "      <th>0</th>\n",
       "      <td>61342</td>\n",
       "      <td>SD1905200354</td>\n",
       "      <td>600</td>\n",
       "      <td>m offshore</td>\n",
       "      <td>caught &amp; released</td>\n",
       "      <td>3</td>\n",
       "      <td></td>\n",
       "      <td>2020-05-19T03:54:00</td>\n",
       "      <td>tiger</td>\n",
       "      <td>SMART drumline trial</td>\n",
       "      <td>114.98100</td>\n",
       "      <td>-33.90910</td>\n",
       "    </tr>\n",
       "    <tr>\n",
       "      <th>1</th>\n",
       "      <td>61340</td>\n",
       "      <td>WA36315TSE</td>\n",
       "      <td>60</td>\n",
       "      <td>m offshore</td>\n",
       "      <td>sighted</td>\n",
       "      <td>1</td>\n",
       "      <td></td>\n",
       "      <td>2020-05-17T12:15:43</td>\n",
       "      <td>unknown sp.</td>\n",
       "      <td>Public report</td>\n",
       "      <td>115.04000</td>\n",
       "      <td>-34.20470</td>\n",
       "    </tr>\n",
       "    <tr>\n",
       "      <th>2</th>\n",
       "      <td>61341</td>\n",
       "      <td>WA89835TSE</td>\n",
       "      <td></td>\n",
       "      <td></td>\n",
       "      <td>sighted</td>\n",
       "      <td>1</td>\n",
       "      <td></td>\n",
       "      <td>2020-05-17T10:30:43</td>\n",
       "      <td>whale carcass</td>\n",
       "      <td>Public report</td>\n",
       "      <td>115.47500</td>\n",
       "      <td>-34.37940</td>\n",
       "    </tr>\n",
       "    <tr>\n",
       "      <th>3</th>\n",
       "      <td>61338</td>\n",
       "      <td>2346</td>\n",
       "      <td>None</td>\n",
       "      <td>None</td>\n",
       "      <td>Detected</td>\n",
       "      <td>4</td>\n",
       "      <td>None</td>\n",
       "      <td>2020-05-16T05:48:00</td>\n",
       "      <td>white</td>\n",
       "      <td>Fisheries Advise</td>\n",
       "      <td>115.74312</td>\n",
       "      <td>-31.99596</td>\n",
       "    </tr>\n",
       "    <tr>\n",
       "      <th>4</th>\n",
       "      <td>61337</td>\n",
       "      <td>2345</td>\n",
       "      <td>None</td>\n",
       "      <td>None</td>\n",
       "      <td>Detected</td>\n",
       "      <td>4</td>\n",
       "      <td>None</td>\n",
       "      <td>2020-05-16T05:26:00</td>\n",
       "      <td>white</td>\n",
       "      <td>Fisheries Advise</td>\n",
       "      <td>115.74408</td>\n",
       "      <td>-31.98765</td>\n",
       "    </tr>\n",
       "  </tbody>\n",
       "</table>\n",
       "</div>"
      ],
      "text/plain": [
       "   RawDataId      ObjectId Distance DistanceUnit   InteractionValue  \\\n",
       "0      61342  SD1905200354      600   m offshore  caught & released   \n",
       "1      61340    WA36315TSE       60   m offshore            sighted   \n",
       "2      61341    WA89835TSE                                  sighted   \n",
       "3      61338          2346     None         None           Detected   \n",
       "4      61337          2345     None         None           Detected   \n",
       "\n",
       "  InteractionId SightingNumbervalue     SightingDateTime SightingSpeciesValue  \\\n",
       "0             3                      2020-05-19T03:54:00                tiger   \n",
       "1             1                      2020-05-17T12:15:43          unknown sp.   \n",
       "2             1                      2020-05-17T10:30:43        whale carcass   \n",
       "3             4                None  2020-05-16T05:48:00                white   \n",
       "4             4                None  2020-05-16T05:26:00                white   \n",
       "\n",
       "             OwnerValue  LocationX  LocationY  \n",
       "0  SMART drumline trial  114.98100  -33.90910  \n",
       "1         Public report  115.04000  -34.20470  \n",
       "2         Public report  115.47500  -34.37940  \n",
       "3      Fisheries Advise  115.74312  -31.99596  \n",
       "4      Fisheries Advise  115.74408  -31.98765  "
      ]
     },
     "execution_count": 3,
     "metadata": {},
     "output_type": "execute_result"
    }
   ],
   "source": [
    "#check the format of the SightingDateTime column\n",
    "shark_df.head()"
   ]
  },
  {
   "cell_type": "markdown",
   "metadata": {},
   "source": [
    "We can see that the column comes in a datetime format however it is currently a string.<br>\n",
    "Lets convert the column to a DateTime format so it can be easily used.<br>\n",
    "For analysis it will be useful to be able to group sightings by year, month, and week so i will add columns for these\n"
   ]
  },
  {
   "cell_type": "code",
   "execution_count": 4,
   "metadata": {},
   "outputs": [],
   "source": [
    "#Convert to DateTime format\n",
    "shark_df['SightingDateTime'] = pd.to_datetime(shark_df['SightingDateTime'])\n",
    "#Column for Year\n",
    "shark_df['year'] = shark_df['SightingDateTime'].dt.year\n",
    "shark_df['month'] = shark_df['SightingDateTime'].dt.month\n",
    "shark_df['week'] = shark_df['SightingDateTime'].dt.week\n",
    "shark_df['day'] = shark_df['SightingDateTime'].dt.dayofyear\n",
    "\n",
    "#convert isoweek to normal week\n",
    "#make map then apply map\n",
    "map_week = ((shark_df['month'] == 1) & (shark_df['week'] ==53))\n",
    "shark_df['week'] = np.where(map_week, 1, shark_df['week'])\n",
    "\n",
    "map_week = ((shark_df['month'] == 12) & (shark_df['week'] == 53))\n",
    "shark_df['week'] = np.where(map_week, 52, shark_df['week'])\n",
    "\n",
    "map_week = ((shark_df['month'] == 12) & (shark_df['week'] == 1))\n",
    "shark_df['week'] = np.where(map_week, 52, shark_df['week'])"
   ]
  },
  {
   "cell_type": "markdown",
   "metadata": {},
   "source": [
    "Because we are interested in where sharks are sighted we need to make the 'Distance' column uniform. It currently has a digit thats size is determined by the 'DistanceUnit' column, lets see what values are in this columns:"
   ]
  },
  {
   "cell_type": "code",
   "execution_count": 5,
   "metadata": {},
   "outputs": [
    {
     "name": "stdout",
     "output_type": "stream",
     "text": [
      "NULL           6230\n",
      "m offshore     4418\n",
      "NaN            3593\n",
      "km offshore     395\n",
      "                262\n",
      "m                20\n",
      "km                1\n",
      "Name: DistanceUnit, dtype: int64\n",
      "NULL     6321\n",
      "NaN      3502\n",
      "50        749\n",
      "100       543\n",
      "20        462\n",
      "         ... \n",
      "280         1\n",
      "3.5         1\n",
      "15000       1\n",
      "4.6         1\n",
      "0.5         1\n",
      "Name: Distance, Length: 104, dtype: int64\n"
     ]
    }
   ],
   "source": [
    "print(shark_df['DistanceUnit'].value_counts(dropna = False))\n",
    "print(shark_df['Distance'].value_counts(dropna = False))\n"
   ]
  },
  {
   "cell_type": "markdown",
   "metadata": {},
   "source": [
    "There are multiple columns that indicate Null values, lets condense these down.\n",
    "We also need to convert the Distance column to a numeric value as it is currently an object."
   ]
  },
  {
   "cell_type": "code",
   "execution_count": 6,
   "metadata": {},
   "outputs": [
    {
     "name": "stdout",
     "output_type": "stream",
     "text": [
      "<class 'pandas.core.frame.DataFrame'>\n",
      "RangeIndex: 14919 entries, 0 to 14918\n",
      "Data columns (total 16 columns):\n",
      " #   Column                Non-Null Count  Dtype         \n",
      "---  ------                --------------  -----         \n",
      " 0   RawDataId             14919 non-null  int64         \n",
      " 1   ObjectId              14919 non-null  object        \n",
      " 2   Distance              4834 non-null   float64       \n",
      " 3   DistanceUnit          4834 non-null   object        \n",
      " 4   InteractionValue      14919 non-null  object        \n",
      " 5   InteractionId         14919 non-null  object        \n",
      " 6   SightingNumbervalue   10127 non-null  object        \n",
      " 7   SightingDateTime      14919 non-null  datetime64[ns]\n",
      " 8   SightingSpeciesValue  14919 non-null  object        \n",
      " 9   OwnerValue            14918 non-null  object        \n",
      " 10  LocationX             14919 non-null  float64       \n",
      " 11  LocationY             14919 non-null  float64       \n",
      " 12  year                  14919 non-null  int64         \n",
      " 13  month                 14919 non-null  int64         \n",
      " 14  week                  14919 non-null  int64         \n",
      " 15  day                   14919 non-null  int64         \n",
      "dtypes: datetime64[ns](1), float64(3), int64(5), object(7)\n",
      "memory usage: 1.8+ MB\n"
     ]
    }
   ],
   "source": [
    "# Convert all blank or Null values to NaN\n",
    "#DistanceUnit\n",
    "shark_df['DistanceUnit'] = shark_df['DistanceUnit'].replace('NULL', np.NaN)\n",
    "shark_df['DistanceUnit'] = shark_df['DistanceUnit'].replace('', np.NaN)\n",
    "#Distance\n",
    "shark_df['Distance'] = shark_df['Distance'].replace('NULL', np.NaN)\n",
    "shark_df['Distance'] = shark_df['Distance'].replace('',np.NaN)\n",
    "\n",
    "#convert Distance to float\n",
    "shark_df['Distance'] = shark_df['Distance'].astype(float)\n",
    "\n",
    "shark_df.info()"
   ]
  },
  {
   "cell_type": "markdown",
   "metadata": {},
   "source": [
    "There are 2 main units of measure, Meters and Kilometers.<br>\n",
    "Lets convert all the values to Meters, once this is done the DistanceUnit column is no longer required so will be dropped."
   ]
  },
  {
   "cell_type": "code",
   "execution_count": 7,
   "metadata": {},
   "outputs": [
    {
     "name": "stdout",
     "output_type": "stream",
     "text": [
      "  DistanceUnit  Distance  distance_meters\n",
      "0   m offshore     600.0            600.0\n",
      "1   m offshore      60.0             60.0\n",
      "2          NaN       NaN              NaN\n",
      "3         None       NaN              NaN\n",
      "4         None       NaN              NaN\n",
      "5         None       NaN              NaN\n",
      "6         None       NaN              NaN\n",
      "7         None       NaN              NaN\n",
      "8   m offshore     100.0            100.0\n",
      "9   m offshore     150.0            150.0\n"
     ]
    },
    {
     "data": {
      "text/html": [
       "<div>\n",
       "<style scoped>\n",
       "    .dataframe tbody tr th:only-of-type {\n",
       "        vertical-align: middle;\n",
       "    }\n",
       "\n",
       "    .dataframe tbody tr th {\n",
       "        vertical-align: top;\n",
       "    }\n",
       "\n",
       "    .dataframe thead th {\n",
       "        text-align: right;\n",
       "    }\n",
       "</style>\n",
       "<table border=\"1\" class=\"dataframe\">\n",
       "  <thead>\n",
       "    <tr style=\"text-align: right;\">\n",
       "      <th></th>\n",
       "      <th>RawDataId</th>\n",
       "      <th>ObjectId</th>\n",
       "      <th>InteractionValue</th>\n",
       "      <th>InteractionId</th>\n",
       "      <th>SightingNumbervalue</th>\n",
       "      <th>SightingDateTime</th>\n",
       "      <th>SightingSpeciesValue</th>\n",
       "      <th>OwnerValue</th>\n",
       "      <th>LocationX</th>\n",
       "      <th>LocationY</th>\n",
       "      <th>year</th>\n",
       "      <th>month</th>\n",
       "      <th>week</th>\n",
       "      <th>day</th>\n",
       "      <th>distance_meters</th>\n",
       "    </tr>\n",
       "  </thead>\n",
       "  <tbody>\n",
       "    <tr>\n",
       "      <th>0</th>\n",
       "      <td>61342</td>\n",
       "      <td>SD1905200354</td>\n",
       "      <td>caught &amp; released</td>\n",
       "      <td>3</td>\n",
       "      <td></td>\n",
       "      <td>2020-05-19 03:54:00</td>\n",
       "      <td>tiger</td>\n",
       "      <td>SMART drumline trial</td>\n",
       "      <td>114.98100</td>\n",
       "      <td>-33.90910</td>\n",
       "      <td>2020</td>\n",
       "      <td>5</td>\n",
       "      <td>21</td>\n",
       "      <td>140</td>\n",
       "      <td>600.0</td>\n",
       "    </tr>\n",
       "    <tr>\n",
       "      <th>1</th>\n",
       "      <td>61340</td>\n",
       "      <td>WA36315TSE</td>\n",
       "      <td>sighted</td>\n",
       "      <td>1</td>\n",
       "      <td></td>\n",
       "      <td>2020-05-17 12:15:43</td>\n",
       "      <td>unknown sp.</td>\n",
       "      <td>Public report</td>\n",
       "      <td>115.04000</td>\n",
       "      <td>-34.20470</td>\n",
       "      <td>2020</td>\n",
       "      <td>5</td>\n",
       "      <td>20</td>\n",
       "      <td>138</td>\n",
       "      <td>60.0</td>\n",
       "    </tr>\n",
       "    <tr>\n",
       "      <th>2</th>\n",
       "      <td>61341</td>\n",
       "      <td>WA89835TSE</td>\n",
       "      <td>sighted</td>\n",
       "      <td>1</td>\n",
       "      <td></td>\n",
       "      <td>2020-05-17 10:30:43</td>\n",
       "      <td>whale carcass</td>\n",
       "      <td>Public report</td>\n",
       "      <td>115.47500</td>\n",
       "      <td>-34.37940</td>\n",
       "      <td>2020</td>\n",
       "      <td>5</td>\n",
       "      <td>20</td>\n",
       "      <td>138</td>\n",
       "      <td>NaN</td>\n",
       "    </tr>\n",
       "    <tr>\n",
       "      <th>3</th>\n",
       "      <td>61338</td>\n",
       "      <td>2346</td>\n",
       "      <td>Detected</td>\n",
       "      <td>4</td>\n",
       "      <td>None</td>\n",
       "      <td>2020-05-16 05:48:00</td>\n",
       "      <td>white</td>\n",
       "      <td>Fisheries Advise</td>\n",
       "      <td>115.74312</td>\n",
       "      <td>-31.99596</td>\n",
       "      <td>2020</td>\n",
       "      <td>5</td>\n",
       "      <td>20</td>\n",
       "      <td>137</td>\n",
       "      <td>NaN</td>\n",
       "    </tr>\n",
       "    <tr>\n",
       "      <th>4</th>\n",
       "      <td>61337</td>\n",
       "      <td>2345</td>\n",
       "      <td>Detected</td>\n",
       "      <td>4</td>\n",
       "      <td>None</td>\n",
       "      <td>2020-05-16 05:26:00</td>\n",
       "      <td>white</td>\n",
       "      <td>Fisheries Advise</td>\n",
       "      <td>115.74408</td>\n",
       "      <td>-31.98765</td>\n",
       "      <td>2020</td>\n",
       "      <td>5</td>\n",
       "      <td>20</td>\n",
       "      <td>137</td>\n",
       "      <td>NaN</td>\n",
       "    </tr>\n",
       "    <tr>\n",
       "      <th>...</th>\n",
       "      <td>...</td>\n",
       "      <td>...</td>\n",
       "      <td>...</td>\n",
       "      <td>...</td>\n",
       "      <td>...</td>\n",
       "      <td>...</td>\n",
       "      <td>...</td>\n",
       "      <td>...</td>\n",
       "      <td>...</td>\n",
       "      <td>...</td>\n",
       "      <td>...</td>\n",
       "      <td>...</td>\n",
       "      <td>...</td>\n",
       "      <td>...</td>\n",
       "      <td>...</td>\n",
       "    </tr>\n",
       "    <tr>\n",
       "      <th>14914</th>\n",
       "      <td>54674</td>\n",
       "      <td>WA00004TSE</td>\n",
       "      <td>Sighted</td>\n",
       "      <td>1</td>\n",
       "      <td>1</td>\n",
       "      <td>2014-10-14 03:40:00</td>\n",
       "      <td>white</td>\n",
       "      <td>Public report</td>\n",
       "      <td>115.04110</td>\n",
       "      <td>-33.54306</td>\n",
       "      <td>2014</td>\n",
       "      <td>10</td>\n",
       "      <td>42</td>\n",
       "      <td>287</td>\n",
       "      <td>10.0</td>\n",
       "    </tr>\n",
       "    <tr>\n",
       "      <th>14915</th>\n",
       "      <td>54675</td>\n",
       "      <td>WA00003TSE</td>\n",
       "      <td>Sighted</td>\n",
       "      <td>1</td>\n",
       "      <td>1</td>\n",
       "      <td>2014-10-14 02:08:00</td>\n",
       "      <td>unknown sp.</td>\n",
       "      <td>Public report</td>\n",
       "      <td>115.02817</td>\n",
       "      <td>-33.63339</td>\n",
       "      <td>2014</td>\n",
       "      <td>10</td>\n",
       "      <td>42</td>\n",
       "      <td>287</td>\n",
       "      <td>NaN</td>\n",
       "    </tr>\n",
       "    <tr>\n",
       "      <th>14916</th>\n",
       "      <td>54676</td>\n",
       "      <td>WA00002TSE</td>\n",
       "      <td>Sighted</td>\n",
       "      <td>1</td>\n",
       "      <td>1</td>\n",
       "      <td>2014-10-13 03:55:00</td>\n",
       "      <td>white</td>\n",
       "      <td>Public report</td>\n",
       "      <td>115.10530</td>\n",
       "      <td>-33.60111</td>\n",
       "      <td>2014</td>\n",
       "      <td>10</td>\n",
       "      <td>42</td>\n",
       "      <td>286</td>\n",
       "      <td>NaN</td>\n",
       "    </tr>\n",
       "    <tr>\n",
       "      <th>14917</th>\n",
       "      <td>46307</td>\n",
       "      <td>1035</td>\n",
       "      <td>Detected</td>\n",
       "      <td>4</td>\n",
       "      <td>NULL</td>\n",
       "      <td>2014-10-13 02:28:00</td>\n",
       "      <td>tiger</td>\n",
       "      <td>Fisheries Advise</td>\n",
       "      <td>115.64283</td>\n",
       "      <td>-32.14411</td>\n",
       "      <td>2014</td>\n",
       "      <td>10</td>\n",
       "      <td>42</td>\n",
       "      <td>286</td>\n",
       "      <td>NaN</td>\n",
       "    </tr>\n",
       "    <tr>\n",
       "      <th>14918</th>\n",
       "      <td>54677</td>\n",
       "      <td>WA00001TSE</td>\n",
       "      <td>Sighted</td>\n",
       "      <td>1</td>\n",
       "      <td>1</td>\n",
       "      <td>2014-10-12 02:00:00</td>\n",
       "      <td>unknown sp.</td>\n",
       "      <td>Public report</td>\n",
       "      <td>115.08480</td>\n",
       "      <td>-33.56575</td>\n",
       "      <td>2014</td>\n",
       "      <td>10</td>\n",
       "      <td>41</td>\n",
       "      <td>285</td>\n",
       "      <td>NaN</td>\n",
       "    </tr>\n",
       "  </tbody>\n",
       "</table>\n",
       "<p>14919 rows × 15 columns</p>\n",
       "</div>"
      ],
      "text/plain": [
       "       RawDataId      ObjectId   InteractionValue InteractionId  \\\n",
       "0          61342  SD1905200354  caught & released             3   \n",
       "1          61340    WA36315TSE            sighted             1   \n",
       "2          61341    WA89835TSE            sighted             1   \n",
       "3          61338          2346           Detected             4   \n",
       "4          61337          2345           Detected             4   \n",
       "...          ...           ...                ...           ...   \n",
       "14914      54674    WA00004TSE            Sighted             1   \n",
       "14915      54675    WA00003TSE            Sighted             1   \n",
       "14916      54676    WA00002TSE            Sighted             1   \n",
       "14917      46307          1035           Detected             4   \n",
       "14918      54677    WA00001TSE            Sighted             1   \n",
       "\n",
       "      SightingNumbervalue    SightingDateTime SightingSpeciesValue  \\\n",
       "0                         2020-05-19 03:54:00                tiger   \n",
       "1                         2020-05-17 12:15:43          unknown sp.   \n",
       "2                         2020-05-17 10:30:43        whale carcass   \n",
       "3                    None 2020-05-16 05:48:00                white   \n",
       "4                    None 2020-05-16 05:26:00                white   \n",
       "...                   ...                 ...                  ...   \n",
       "14914                   1 2014-10-14 03:40:00                white   \n",
       "14915                   1 2014-10-14 02:08:00          unknown sp.   \n",
       "14916                   1 2014-10-13 03:55:00                white   \n",
       "14917                NULL 2014-10-13 02:28:00                tiger   \n",
       "14918                   1 2014-10-12 02:00:00          unknown sp.   \n",
       "\n",
       "                 OwnerValue  LocationX  LocationY  year  month  week  day  \\\n",
       "0      SMART drumline trial  114.98100  -33.90910  2020      5    21  140   \n",
       "1             Public report  115.04000  -34.20470  2020      5    20  138   \n",
       "2             Public report  115.47500  -34.37940  2020      5    20  138   \n",
       "3          Fisheries Advise  115.74312  -31.99596  2020      5    20  137   \n",
       "4          Fisheries Advise  115.74408  -31.98765  2020      5    20  137   \n",
       "...                     ...        ...        ...   ...    ...   ...  ...   \n",
       "14914         Public report  115.04110  -33.54306  2014     10    42  287   \n",
       "14915         Public report  115.02817  -33.63339  2014     10    42  287   \n",
       "14916         Public report  115.10530  -33.60111  2014     10    42  286   \n",
       "14917      Fisheries Advise  115.64283  -32.14411  2014     10    42  286   \n",
       "14918         Public report  115.08480  -33.56575  2014     10    41  285   \n",
       "\n",
       "       distance_meters  \n",
       "0                600.0  \n",
       "1                 60.0  \n",
       "2                  NaN  \n",
       "3                  NaN  \n",
       "4                  NaN  \n",
       "...                ...  \n",
       "14914             10.0  \n",
       "14915              NaN  \n",
       "14916              NaN  \n",
       "14917              NaN  \n",
       "14918              NaN  \n",
       "\n",
       "[14919 rows x 15 columns]"
      ]
     },
     "execution_count": 7,
     "metadata": {},
     "output_type": "execute_result"
    }
   ],
   "source": [
    "#create Boolean map for meters column\n",
    "map_Du = ((shark_df['DistanceUnit'] == 'km offshore') | (shark_df['DistanceUnit'] =='km'))\n",
    "\n",
    "#create meters column by multiplying the Distance column by 100 if 'km' in DistanceUnit\n",
    "shark_df['distance_meters'] = np.where(map_Du, shark_df['Distance']*1000, shark_df['Distance'])\n",
    "\n",
    "#check all is correct\n",
    "print(shark_df[['DistanceUnit', 'Distance', 'distance_meters']].head(10))\n",
    "\n",
    "#drop uneeded columns\n",
    "shark_df.drop(['DistanceUnit', 'Distance'], axis = 1)"
   ]
  },
  {
   "cell_type": "markdown",
   "metadata": {},
   "source": [
    "What to do with missing values?\n",
    "options: \n",
    "-nothing\n",
    "-get shoreline data and calculate\n",
    "-drop column"
   ]
  },
  {
   "cell_type": "markdown",
   "metadata": {},
   "source": [
    "## Sighting Number\n",
    "The  SightingNumbervalue is missing data, I will assume that the reason data is missing is because it was a single shark so will replace all missing/null values with 1.<br>\n",
    "I will make all rows uniform. The columns will be updated to the numeric format of the number shown\n"
   ]
  },
  {
   "cell_type": "code",
   "execution_count": 8,
   "metadata": {},
   "outputs": [
    {
     "data": {
      "text/plain": [
       "NULL         6230\n",
       "NaN          4792\n",
       "             2934\n",
       "1             404\n",
       "2  x          296\n",
       "school of      94\n",
       "3 x            90\n",
       "4 x            46\n",
       "5 x            16\n",
       "6 x            12\n",
       "2               2\n",
       "5               1\n",
       "2x              1\n",
       "4               1\n",
       "Name: SightingNumbervalue, dtype: int64"
      ]
     },
     "execution_count": 8,
     "metadata": {},
     "output_type": "execute_result"
    }
   ],
   "source": [
    "#see what values are in column\n",
    "vs = shark_df.SightingNumbervalue.value_counts(dropna = False)\n",
    "vs"
   ]
  },
  {
   "cell_type": "code",
   "execution_count": 9,
   "metadata": {},
   "outputs": [
    {
     "data": {
      "text/plain": [
       "1    14360\n",
       "2      299\n",
       "3      184\n",
       "4       47\n",
       "5       17\n",
       "6       12\n",
       "Name: SightingNumbervalue, dtype: int64"
      ]
     },
     "execution_count": 9,
     "metadata": {},
     "output_type": "execute_result"
    }
   ],
   "source": [
    "#save values to a list \n",
    "cols = list(pd.DataFrame([vs]).columns)\n",
    "#create replacement list\n",
    "rep = [1,1,1,1,2,3, 3,4,5,6,2,2,5,4]\n",
    "\n",
    "#replace values to uniform format\n",
    "shark_df['SightingNumbervalue'] = shark_df['SightingNumbervalue'].replace(cols, rep)\n",
    "\n",
    "#Check values\n",
    "shark_df['SightingNumbervalue'].value_counts(dropna = False)\n"
   ]
  },
  {
   "cell_type": "markdown",
   "metadata": {},
   "source": [
    "## Interaction Types\n",
    "\n",
    "From the dictionary provided by the data owners we can see that there should only be types of detection\n",
    "- 1 = sighted\n",
    "- 2= tagged and released\n",
    "- 3 = caught and released\n",
    "- 4 = detected\n",
    "\n",
    "Lets look at the InteractionValue and InteractionID columns to check if this is what we have\n"
   ]
  },
  {
   "cell_type": "code",
   "execution_count": 10,
   "metadata": {},
   "outputs": [
    {
     "name": "stdout",
     "output_type": "stream",
     "text": [
      "1    5211\n",
      "2      88\n",
      "3     168\n",
      "4    9433\n",
      "5       2\n",
      "6      17\n",
      "Name: InteractionId, dtype: int64\n",
      "\n",
      "\n",
      " Detected                        9432\n",
      "sighted                         5153\n",
      "caught & released                168\n",
      "tagged & released                 91\n",
      "Sighted                           44\n",
      "caught, relocated & released      17\n",
      "detected                          10\n",
      "tagged, relocated & released       2\n",
      "tagged and released                1\n",
      "sighted                            1\n",
      "Name: InteractionValue, dtype: int64\n"
     ]
    }
   ],
   "source": [
    "print(shark_df['InteractionId'].value_counts(dropna=False).sort_index())\n",
    "print('\\n\\n',shark_df['InteractionValue'].value_counts(dropna=False))\n"
   ]
  },
  {
   "cell_type": "markdown",
   "metadata": {},
   "source": [
    "We can see from the above values that the InteractionID list contains 5 and 6 which are not mentioned in the dictionary.<br>\n",
    "We can also see that the InteractionValue contains multiple formats of the same value and also has extra relocated values.\n",
    "\n",
    "I will condense the Interaction Value column down into a uniform list and as i do not care for relocation i will change them to match the corresponding values. Once this is done I can use this column as the source of all interactions and drop InteractionId as it will provide the same information."
   ]
  },
  {
   "cell_type": "code",
   "execution_count": 11,
   "metadata": {},
   "outputs": [
    {
     "name": "stdout",
     "output_type": "stream",
     "text": [
      "detected             9442\n",
      "sighted              5197\n",
      "caught & released     185\n",
      "tagged & released      94\n",
      "sighted                 1\n",
      "Name: InteractionValue, dtype: int64\n"
     ]
    }
   ],
   "source": [
    "#Replace values in column\n",
    "shark_df['InteractionValue'] = shark_df['InteractionValue'].replace({'Sighted':'sighted', \n",
    "                                                                    'caught, relocated & released':'caught & released',\n",
    "                                                                    'tagged, relocated & released':'tagged & released',\n",
    "                                                                    'tagged and released':'tagged & released',\n",
    "                                                                    'Detected':'detected'})\n",
    "\n",
    "\n",
    "#check column is as expected\n",
    "print(shark_df['InteractionValue'].value_counts(dropna = False))"
   ]
  },
  {
   "cell_type": "markdown",
   "metadata": {},
   "source": [
    "We have successfully merged all the rows into a cohesive format, I will now drop the InteractionId column as it shows the same data and is no longer required"
   ]
  },
  {
   "cell_type": "raw",
   "metadata": {},
   "source": [
    "shark_df = shark_df.drop('InteractionId', axis = 1)"
   ]
  },
  {
   "cell_type": "markdown",
   "metadata": {},
   "source": [
    "## Shark Species\n",
    "\n",
    "Lets look at the SightingSpeciesvalue to determin if this column is ready to use"
   ]
  },
  {
   "cell_type": "code",
   "execution_count": 12,
   "metadata": {},
   "outputs": [
    {
     "data": {
      "text/plain": [
       "bronze whaler                 5299\n",
       "tiger                         3650\n",
       "unknown sp.                   3513\n",
       "white                         1753\n",
       "hammerhead                     255\n",
       "whale carcass                  139\n",
       "whaler                         109\n",
       "bull                            62\n",
       "sonar object                    45\n",
       "mako                            34\n",
       "other                           23\n",
       "grey nurse                       9\n",
       "dusky                            8\n",
       "blue                             4\n",
       "detection event - possible       4\n",
       "whale carcass                    4\n",
       "                                 3\n",
       "blacktip                         3\n",
       "white                            1\n",
       "Whale Carcass                    1\n",
       "Name: SightingSpeciesValue, dtype: int64"
      ]
     },
     "execution_count": 12,
     "metadata": {},
     "output_type": "execute_result"
    }
   ],
   "source": [
    "shark_df['SightingSpeciesValue'].value_counts(dropna = False)"
   ]
  },
  {
   "cell_type": "markdown",
   "metadata": {},
   "source": [
    "Looking at the list of values we can see that there are duplicate values as well as missing values. I will change the following values to make the list uniform:\n",
    "\n",
    "- whaler to bronze whaler\n",
    "- other to unknown sp.\n",
    "- detection evemt to unknown sp.\n",
    "- sonar object to unknow sp.\n",
    "- change duplicates to uniform format"
   ]
  },
  {
   "cell_type": "code",
   "execution_count": 13,
   "metadata": {},
   "outputs": [
    {
     "data": {
      "text/plain": [
       "bronze whaler    5408\n",
       "tiger            3650\n",
       "unknown sp.      3588\n",
       "white            1754\n",
       "hammerhead        255\n",
       "whale carcass     144\n",
       "bull               62\n",
       "mako               34\n",
       "grey nurse          9\n",
       "dusky               8\n",
       "blue                4\n",
       "blacktip            3\n",
       "Name: SightingSpeciesValue, dtype: int64"
      ]
     },
     "execution_count": 13,
     "metadata": {},
     "output_type": "execute_result"
    }
   ],
   "source": [
    "shark_df['SightingSpeciesValue'] = shark_df['SightingSpeciesValue'].replace({\n",
    "    \n",
    "                                        'whaler':'bronze whaler',\n",
    "                                        'other':'unknown sp.',\n",
    "                                        'detection event - possible':'unknown sp.',\n",
    "                                        'sonar object':'unknown sp.',\n",
    "                                        'white ':'white',\n",
    "                                        'whale carcass ': 'whale carcass',\n",
    "                                        'Whale Carcass':'whale carcass',\n",
    "                                        '':'unknown sp.'})\n",
    "\n",
    "shark_df['SightingSpeciesValue'].value_counts(dropna = False)"
   ]
  },
  {
   "cell_type": "markdown",
   "metadata": {},
   "source": [
    "The list is now in a uniform format.\n",
    "\n",
    "I will drop the whale carcass rows from the dataframe as i do not need these for some of my analysis. I will save a seperate dataframe that includes all of the information."
   ]
  },
  {
   "cell_type": "code",
   "execution_count": null,
   "metadata": {},
   "outputs": [],
   "source": [
    "#save dataframe\n",
    "shark_whale_df = shark_df.copy()\n",
    "\n",
    "#drop a rows with 'whale carcass'\n",
    "shark_df = shark_df[shark_df['SightingSpeciesValue'] != 'whale carcass']"
   ]
  },
  {
   "cell_type": "markdown",
   "metadata": {},
   "source": [
    "## Add Region Column"
   ]
  },
  {
   "cell_type": "code",
   "execution_count": null,
   "metadata": {},
   "outputs": [],
   "source": [
    "def get_region(df):\n",
    "    x = df['LocationY']\n",
    "    y = df['LocationX']\n",
    "    \n",
    "    if x > - 19.91:\n",
    "        return 'Kimberly'\n",
    "    elif (x > -22.28) & (y > 114.5):\n",
    "        return 'Pilbara'\n",
    "    elif (x > -27.85):\n",
    "        return 'Gascoyne'\n",
    "    elif (x > -27.1 ):\n",
    "        return 'Mid West'\n",
    "    elif (x > -30.15):\n",
    "        return 'Wheatbelt'\n",
    "    elif (x > -32.95):\n",
    "        return 'Perth/Peel'\n",
    "    elif ( y < 116.75):\n",
    "        return 'South West'\n",
    "    elif (y < 119.5):\n",
    "        return 'Great Southern'\n",
    "    \n",
    "    else :return 'Esperance'\n",
    "    \n",
    "shark_df['region'] = shark_df.apply(get_region, axis = 1)\n",
    "\n",
    "shark_df['region'].value_counts(dropna = False)\n"
   ]
  },
  {
   "cell_type": "code",
   "execution_count": null,
   "metadata": {},
   "outputs": [],
   "source": [
    "#Create column of unique ids\n",
    "shark_df['new_id'] = shark_df['ObjectId']+shark_df['SightingSpeciesValue']\n",
    "\n",
    "#Mark first unique values as 'Unique'\n",
    "unique_id = shark_df.duplicated(subset = 'new_id',keep = 'first')\n",
    "shark_df['unique'] = np.where(unique_id, 1, 'Unique')"
   ]
  },
  {
   "cell_type": "markdown",
   "metadata": {},
   "source": [
    "# Analysis\n",
    "Now all our data is in a usable format we can start analysing the data.<br>\n",
    "\n",
    "First lets look at how the number of sightings changesover the course of a year"
   ]
  },
  {
   "cell_type": "code",
   "execution_count": 17,
   "metadata": {},
   "outputs": [
    {
     "name": "stdout",
     "output_type": "stream",
     "text": [
      "15698\n"
     ]
    },
    {
     "data": {
      "text/html": [
       "<div>\n",
       "<style scoped>\n",
       "    .dataframe tbody tr th:only-of-type {\n",
       "        vertical-align: middle;\n",
       "    }\n",
       "\n",
       "    .dataframe tbody tr th {\n",
       "        vertical-align: top;\n",
       "    }\n",
       "\n",
       "    .dataframe thead th {\n",
       "        text-align: right;\n",
       "    }\n",
       "</style>\n",
       "<table border=\"1\" class=\"dataframe\">\n",
       "  <thead>\n",
       "    <tr style=\"text-align: right;\">\n",
       "      <th>InteractionValue</th>\n",
       "      <th>month</th>\n",
       "      <th>caught &amp; released</th>\n",
       "      <th>detected</th>\n",
       "      <th>sighted</th>\n",
       "      <th>sighted</th>\n",
       "      <th>tagged &amp; released</th>\n",
       "      <th>total</th>\n",
       "      <th>average</th>\n",
       "    </tr>\n",
       "  </thead>\n",
       "  <tbody>\n",
       "    <tr>\n",
       "      <th>0</th>\n",
       "      <td>January</td>\n",
       "      <td>24.0</td>\n",
       "      <td>1019.0</td>\n",
       "      <td>1112.0</td>\n",
       "      <td>NaN</td>\n",
       "      <td>2.0</td>\n",
       "      <td>2157.0</td>\n",
       "      <td>308.142857</td>\n",
       "    </tr>\n",
       "    <tr>\n",
       "      <th>1</th>\n",
       "      <td>February</td>\n",
       "      <td>20.0</td>\n",
       "      <td>576.0</td>\n",
       "      <td>526.0</td>\n",
       "      <td>NaN</td>\n",
       "      <td>6.0</td>\n",
       "      <td>1128.0</td>\n",
       "      <td>161.142857</td>\n",
       "    </tr>\n",
       "    <tr>\n",
       "      <th>2</th>\n",
       "      <td>March</td>\n",
       "      <td>37.0</td>\n",
       "      <td>855.0</td>\n",
       "      <td>647.0</td>\n",
       "      <td>NaN</td>\n",
       "      <td>3.0</td>\n",
       "      <td>1542.0</td>\n",
       "      <td>220.285714</td>\n",
       "    </tr>\n",
       "    <tr>\n",
       "      <th>3</th>\n",
       "      <td>April</td>\n",
       "      <td>25.0</td>\n",
       "      <td>200.0</td>\n",
       "      <td>917.0</td>\n",
       "      <td>1.0</td>\n",
       "      <td>1.0</td>\n",
       "      <td>1144.0</td>\n",
       "      <td>163.428571</td>\n",
       "    </tr>\n",
       "    <tr>\n",
       "      <th>4</th>\n",
       "      <td>May</td>\n",
       "      <td>15.0</td>\n",
       "      <td>211.0</td>\n",
       "      <td>167.0</td>\n",
       "      <td>NaN</td>\n",
       "      <td>3.0</td>\n",
       "      <td>396.0</td>\n",
       "      <td>56.571429</td>\n",
       "    </tr>\n",
       "    <tr>\n",
       "      <th>5</th>\n",
       "      <td>June</td>\n",
       "      <td>5.0</td>\n",
       "      <td>246.0</td>\n",
       "      <td>91.0</td>\n",
       "      <td>NaN</td>\n",
       "      <td>2.0</td>\n",
       "      <td>344.0</td>\n",
       "      <td>49.142857</td>\n",
       "    </tr>\n",
       "    <tr>\n",
       "      <th>6</th>\n",
       "      <td>July</td>\n",
       "      <td>5.0</td>\n",
       "      <td>229.0</td>\n",
       "      <td>112.0</td>\n",
       "      <td>NaN</td>\n",
       "      <td>4.0</td>\n",
       "      <td>350.0</td>\n",
       "      <td>50.000000</td>\n",
       "    </tr>\n",
       "    <tr>\n",
       "      <th>7</th>\n",
       "      <td>August</td>\n",
       "      <td>2.0</td>\n",
       "      <td>274.0</td>\n",
       "      <td>122.0</td>\n",
       "      <td>NaN</td>\n",
       "      <td>12.0</td>\n",
       "      <td>410.0</td>\n",
       "      <td>58.571429</td>\n",
       "    </tr>\n",
       "    <tr>\n",
       "      <th>8</th>\n",
       "      <td>September</td>\n",
       "      <td>4.0</td>\n",
       "      <td>780.0</td>\n",
       "      <td>208.0</td>\n",
       "      <td>NaN</td>\n",
       "      <td>14.0</td>\n",
       "      <td>1006.0</td>\n",
       "      <td>143.714286</td>\n",
       "    </tr>\n",
       "    <tr>\n",
       "      <th>9</th>\n",
       "      <td>October</td>\n",
       "      <td>7.0</td>\n",
       "      <td>2136.0</td>\n",
       "      <td>315.0</td>\n",
       "      <td>NaN</td>\n",
       "      <td>16.0</td>\n",
       "      <td>2474.0</td>\n",
       "      <td>353.428571</td>\n",
       "    </tr>\n",
       "    <tr>\n",
       "      <th>10</th>\n",
       "      <td>November</td>\n",
       "      <td>17.0</td>\n",
       "      <td>1292.0</td>\n",
       "      <td>655.0</td>\n",
       "      <td>NaN</td>\n",
       "      <td>25.0</td>\n",
       "      <td>1989.0</td>\n",
       "      <td>284.142857</td>\n",
       "    </tr>\n",
       "    <tr>\n",
       "      <th>11</th>\n",
       "      <td>December</td>\n",
       "      <td>24.0</td>\n",
       "      <td>1625.0</td>\n",
       "      <td>1102.0</td>\n",
       "      <td>NaN</td>\n",
       "      <td>7.0</td>\n",
       "      <td>2758.0</td>\n",
       "      <td>394.000000</td>\n",
       "    </tr>\n",
       "    <tr>\n",
       "      <th>12</th>\n",
       "      <td>Total</td>\n",
       "      <td>185.0</td>\n",
       "      <td>9443.0</td>\n",
       "      <td>5974.0</td>\n",
       "      <td>1.0</td>\n",
       "      <td>95.0</td>\n",
       "      <td>15698.0</td>\n",
       "      <td>2242.571429</td>\n",
       "    </tr>\n",
       "  </tbody>\n",
       "</table>\n",
       "</div>"
      ],
      "text/plain": [
       "InteractionValue      month  caught & released  detected  sighted  sighted   \\\n",
       "0                   January               24.0    1019.0   1112.0       NaN   \n",
       "1                  February               20.0     576.0    526.0       NaN   \n",
       "2                     March               37.0     855.0    647.0       NaN   \n",
       "3                     April               25.0     200.0    917.0       1.0   \n",
       "4                       May               15.0     211.0    167.0       NaN   \n",
       "5                      June                5.0     246.0     91.0       NaN   \n",
       "6                      July                5.0     229.0    112.0       NaN   \n",
       "7                    August                2.0     274.0    122.0       NaN   \n",
       "8                 September                4.0     780.0    208.0       NaN   \n",
       "9                   October                7.0    2136.0    315.0       NaN   \n",
       "10                 November               17.0    1292.0    655.0       NaN   \n",
       "11                 December               24.0    1625.0   1102.0       NaN   \n",
       "12                    Total              185.0    9443.0   5974.0       1.0   \n",
       "\n",
       "InteractionValue  tagged & released    total      average  \n",
       "0                               2.0   2157.0   308.142857  \n",
       "1                               6.0   1128.0   161.142857  \n",
       "2                               3.0   1542.0   220.285714  \n",
       "3                               1.0   1144.0   163.428571  \n",
       "4                               3.0    396.0    56.571429  \n",
       "5                               2.0    344.0    49.142857  \n",
       "6                               4.0    350.0    50.000000  \n",
       "7                              12.0    410.0    58.571429  \n",
       "8                              14.0   1006.0   143.714286  \n",
       "9                              16.0   2474.0   353.428571  \n",
       "10                             25.0   1989.0   284.142857  \n",
       "11                              7.0   2758.0   394.000000  \n",
       "12                             95.0  15698.0  2242.571429  "
      ]
     },
     "execution_count": 17,
     "metadata": {},
     "output_type": "execute_result"
    }
   ],
   "source": [
    "import calendar\n",
    "x = shark_df['SightingNumbervalue'].sum(axis=0)\n",
    "print(x)\n",
    "#Add variable for months and total\n",
    "months = calendar.month_name[1:13]\n",
    "months.append('Total')\n",
    "\n",
    "#Create pivot of sightings by month\n",
    "sightings_piv = pd.pivot_table(shark_df, index='month',\n",
    "                       columns = 'InteractionValue',\n",
    "                       values = 'SightingNumbervalue',\n",
    "                       aggfunc = np.sum )\n",
    "sightings_piv = sightings_piv.reset_index()\n",
    "\n",
    "#add a total column\n",
    "sightings_piv['total'] = sightings_piv.iloc[:,1:].sum(axis=1)\n",
    "\n",
    "#add total row\n",
    "total_row = sightings_piv.sum(axis = 0)\n",
    "sightings_piv = sightings_piv.append(total_row,ignore_index=True)\n",
    "sightings_piv['month'] = months\n",
    "\n",
    "#add average column\n",
    "sightings_piv['average'] = sightings_piv['total']/len(shark_df['year'].unique())\n",
    "\n",
    "#view pivot\n",
    "sightings_piv\n"
   ]
  },
  {
   "cell_type": "code",
   "execution_count": 18,
   "metadata": {},
   "outputs": [
    {
     "data": {
      "image/png": "[encoded data removed]",
      "text/plain": [
       "<Figure size 1080x576 with 1 Axes>"
      ]
     },
     "metadata": {
      "needs_background": "light"
     },
     "output_type": "display_data"
    }
   ],
   "source": [
    "#Generate line graph of total sightings per month\n",
    "sightings_piv.iloc[:12].plot.line(y='total', \n",
    "                        x='month',\n",
    "                        grid = True,\n",
    "                        figsize = [15,8],\n",
    "                        xlim = [0,11],\n",
    "                           )\n",
    "#set xticks\n",
    "plt.xticks(np.arange(12), calendar.month_name[1:13])\n",
    "plt.show()"
   ]
  },
  {
   "cell_type": "markdown",
   "metadata": {},
   "source": [
    "As we can see from the abpve graph, sightings rise in the summer months and drop in the winter. This is due to the fact that sharks are migratory animals and and migrate in the winter. A second reason for this is that in winter less people are near/on the sea and as such are not there to see the sharks. <br>\n",
    "\n",
    "Lets look at only sharks that have been detected via radio transmitter. This will give a better view as this is an automatic process and people are not needed."
   ]
  },
  {
   "cell_type": "code",
   "execution_count": 19,
   "metadata": {},
   "outputs": [
    {
     "data": {
      "image/png": "[encoded data removed]",
      "text/plain": [
       "<Figure size 1080x576 with 1 Axes>"
      ]
     },
     "metadata": {
      "needs_background": "light"
     },
     "output_type": "display_data"
    }
   ],
   "source": [
    "sightings_piv.iloc[0:12].plot.line(y=['total','detected'], \n",
    "                        x='month',\n",
    "                        grid = True,\n",
    "                        figsize = [15,8],\n",
    "                        xlim = [0,11]\n",
    "               )\n",
    "plt.xticks(np.arange(12), calendar.month_name[1:13])\n",
    "plt.show()"
   ]
  },
  {
   "cell_type": "markdown",
   "metadata": {},
   "source": [
    "Comparing these two graphs we can see there is still a huge spike in the summer months (Notably October) and a drop off in winter.\n",
    "\n",
    "There is a significant difference between the number of total sightings and the number of detections for December and January, this is likely because of the summer holidays and an influx of people heading to the water for their time off, resulting in more eyes to spot sharks.\n",
    "\n",
    "## Species\n",
    "\n",
    "Next lets look at which species of shark are most commonly sighted.\n",
    "\n",
    "I will count by the unique ID to minimise the amount of times a single shark is counted"
   ]
  },
  {
   "cell_type": "code",
   "execution_count": 20,
   "metadata": {},
   "outputs": [
    {
     "name": "stdout",
     "output_type": "stream",
     "text": [
      "unknown sp.      3583\n",
      "white             782\n",
      "tiger             572\n",
      "bronze whaler     483\n",
      "hammerhead        254\n",
      "bull               62\n",
      "mako               34\n",
      "grey nurse          9\n",
      "dusky               8\n",
      "blue                4\n",
      "blacktip            3\n",
      "Name: SightingSpeciesValue, dtype: int64\n",
      "5794\n"
     ]
    }
   ],
   "source": [
    "#Create DF of unique sharks\n",
    "unique_sharks = shark_df.drop_duplicates(subset = 'ObjectId',keep = 'first')\n",
    "\n",
    "#View number of unique sharks\n",
    "print(unique_sharks['SightingSpeciesValue'].value_counts())#.plot(kind = 'bar')\n",
    "print(unique_sharks['SightingSpeciesValue'].value_counts().sum())\n"
   ]
  },
  {
   "cell_type": "code",
   "execution_count": 21,
   "metadata": {},
   "outputs": [
    {
     "data": {
      "text/plain": [
       "<matplotlib.axes._subplots.AxesSubplot at 0x1c30d385ec8>"
      ]
     },
     "execution_count": 21,
     "metadata": {},
     "output_type": "execute_result"
    },
    {
     "data": {
      "image/png": "[encoded data removed]",
      "text/plain": [
       "<Figure size 1080x576 with 1 Axes>"
      ]
     },
     "metadata": {
      "needs_background": "light"
     },
     "output_type": "display_data"
    }
   ],
   "source": [
    "spe_piv = pd.pivot_table(unique_sharks, index='year',\n",
    "                       columns = 'SightingSpeciesValue',\n",
    "                       values = 'SightingNumbervalue',\n",
    "                       aggfunc = 'count' )\n",
    "spe_piv = spe_piv.reset_index()\n",
    "spe_piv.plot.line(figsize = [15,8],\n",
    "                  grid = True,\n",
    "                  y = ['white', 'bronze whaler', 'tiger', 'hammerhead'], \n",
    "                  x = 'year', \n",
    "                  xlim = [2014,2019])"
   ]
  },
  {
   "cell_type": "markdown",
   "metadata": {},
   "source": [
    "We can see that the majority of sharks are unknown, this is likely because it is hard to ID a shark that is partially submerged and the average person doesnt have the knowledge to Id them.\n",
    "\n",
    "Great whites are the most common sighting of ID'd sharks. This could be due to the fact that they are the most recognisable shark species so are easier to ID.\n",
    "\n",
    "\n",
    "## Location\n",
    "\n",
    "Lets look at where sighting are most common"
   ]
  },
  {
   "cell_type": "code",
   "execution_count": 22,
   "metadata": {},
   "outputs": [],
   "source": [
    "from mpl_toolkits.basemap import Basemap\n",
    "lats = list(shark_df['LocationY'])\n",
    "lons= list(shark_df['LocationX'])"
   ]
  },
  {
   "cell_type": "code",
   "execution_count": 23,
   "metadata": {},
   "outputs": [
    {
     "name": "stderr",
     "output_type": "stream",
     "text": [
      "D:\\Program Files\\Anaconda\\lib\\site-packages\\ipykernel_launcher.py:8: MatplotlibDeprecationWarning: \n",
      "The dedent function was deprecated in Matplotlib 3.1 and will be removed in 3.3. Use inspect.cleandoc instead.\n",
      "  \n"
     ]
    },
    {
     "name": "stdout",
     "output_type": "stream",
     "text": [
      "http://server.arcgisonline.com/ArcGIS/rest/services/NatGeo_World_Map/MapServer/export?bbox=-1577036.7807297038,-3670689.739519276,-1481484.565593657,-3534295.38889157&bboxSR=3577&imageSR=3577&size=1500,2141&dpi=96&format=png32&transparent=true&f=image\n"
     ]
    },
    {
     "ename": "HTTPError",
     "evalue": "HTTP Error 502: Bad Gateway",
     "output_type": "error",
     "traceback": [
      "\u001b[1;31m---------------------------------------------------------------------------\u001b[0m",
      "\u001b[1;31mHTTPError\u001b[0m                                 Traceback (most recent call last)",
      "\u001b[1;32m<ipython-input-23-a9539410ee65>\u001b[0m in \u001b[0;36m<module>\u001b[1;34m\u001b[0m\n\u001b[0;32m      8\u001b[0m             resolution='h')\n\u001b[0;32m      9\u001b[0m \u001b[1;33m\u001b[0m\u001b[0m\n\u001b[1;32m---> 10\u001b[1;33m \u001b[0mm\u001b[0m\u001b[1;33m.\u001b[0m\u001b[0marcgisimage\u001b[0m\u001b[1;33m(\u001b[0m\u001b[0mservice\u001b[0m\u001b[1;33m=\u001b[0m\u001b[1;34m'NatGeo_World_Map'\u001b[0m\u001b[1;33m,\u001b[0m \u001b[0mxpixels\u001b[0m \u001b[1;33m=\u001b[0m \u001b[1;36m1500\u001b[0m\u001b[1;33m,\u001b[0m \u001b[0mverbose\u001b[0m\u001b[1;33m=\u001b[0m \u001b[1;32mTrue\u001b[0m\u001b[1;33m)\u001b[0m\u001b[1;33m\u001b[0m\u001b[1;33m\u001b[0m\u001b[0m\n\u001b[0m\u001b[0;32m     11\u001b[0m \u001b[0mx\u001b[0m\u001b[1;33m,\u001b[0m \u001b[0my\u001b[0m \u001b[1;33m=\u001b[0m \u001b[0mm\u001b[0m\u001b[1;33m(\u001b[0m\u001b[0mlons\u001b[0m\u001b[1;33m,\u001b[0m \u001b[0mlats\u001b[0m\u001b[1;33m)\u001b[0m  \u001b[1;31m# transform coordinates\u001b[0m\u001b[1;33m\u001b[0m\u001b[1;33m\u001b[0m\u001b[0m\n\u001b[0;32m     12\u001b[0m \u001b[0mplt\u001b[0m\u001b[1;33m.\u001b[0m\u001b[0mscatter\u001b[0m\u001b[1;33m(\u001b[0m\u001b[0mx\u001b[0m\u001b[1;33m,\u001b[0m \u001b[0my\u001b[0m\u001b[1;33m,\u001b[0m \u001b[0mcolor\u001b[0m \u001b[1;33m=\u001b[0m \u001b[1;34m'red'\u001b[0m\u001b[1;33m,\u001b[0m \u001b[0mmarker\u001b[0m\u001b[1;33m=\u001b[0m\u001b[1;34m'D'\u001b[0m\u001b[1;33m,\u001b[0m\u001b[0ms\u001b[0m\u001b[1;33m=\u001b[0m\u001b[1;36m1\u001b[0m\u001b[1;33m)\u001b[0m\u001b[1;33m\u001b[0m\u001b[1;33m\u001b[0m\u001b[0m\n",
      "\u001b[1;32mD:\\Program Files\\Anaconda\\lib\\site-packages\\mpl_toolkits\\basemap\\__init__.py\u001b[0m in \u001b[0;36marcgisimage\u001b[1;34m(self, server, service, xpixels, ypixels, dpi, verbose, **kwargs)\u001b[0m\n\u001b[0;32m   4269\u001b[0m         \u001b[1;32mif\u001b[0m \u001b[0mverbose\u001b[0m\u001b[1;33m:\u001b[0m \u001b[0mprint\u001b[0m\u001b[1;33m(\u001b[0m\u001b[0mbasemap_url\u001b[0m\u001b[1;33m)\u001b[0m\u001b[1;33m\u001b[0m\u001b[1;33m\u001b[0m\u001b[0m\n\u001b[0;32m   4270\u001b[0m         \u001b[1;31m# return AxesImage instance.\u001b[0m\u001b[1;33m\u001b[0m\u001b[1;33m\u001b[0m\u001b[1;33m\u001b[0m\u001b[0m\n\u001b[1;32m-> 4271\u001b[1;33m         return self.imshow(imread(urlopen(basemap_url)),ax=ax,\n\u001b[0m\u001b[0;32m   4272\u001b[0m                            origin='upper')\n\u001b[0;32m   4273\u001b[0m \u001b[1;33m\u001b[0m\u001b[0m\n",
      "\u001b[1;32mD:\\Program Files\\Anaconda\\lib\\urllib\\request.py\u001b[0m in \u001b[0;36murlopen\u001b[1;34m(url, data, timeout, cafile, capath, cadefault, context)\u001b[0m\n\u001b[0;32m    220\u001b[0m     \u001b[1;32melse\u001b[0m\u001b[1;33m:\u001b[0m\u001b[1;33m\u001b[0m\u001b[1;33m\u001b[0m\u001b[0m\n\u001b[0;32m    221\u001b[0m         \u001b[0mopener\u001b[0m \u001b[1;33m=\u001b[0m \u001b[0m_opener\u001b[0m\u001b[1;33m\u001b[0m\u001b[1;33m\u001b[0m\u001b[0m\n\u001b[1;32m--> 222\u001b[1;33m     \u001b[1;32mreturn\u001b[0m \u001b[0mopener\u001b[0m\u001b[1;33m.\u001b[0m\u001b[0mopen\u001b[0m\u001b[1;33m(\u001b[0m\u001b[0murl\u001b[0m\u001b[1;33m,\u001b[0m \u001b[0mdata\u001b[0m\u001b[1;33m,\u001b[0m \u001b[0mtimeout\u001b[0m\u001b[1;33m)\u001b[0m\u001b[1;33m\u001b[0m\u001b[1;33m\u001b[0m\u001b[0m\n\u001b[0m\u001b[0;32m    223\u001b[0m \u001b[1;33m\u001b[0m\u001b[0m\n\u001b[0;32m    224\u001b[0m \u001b[1;32mdef\u001b[0m \u001b[0minstall_opener\u001b[0m\u001b[1;33m(\u001b[0m\u001b[0mopener\u001b[0m\u001b[1;33m)\u001b[0m\u001b[1;33m:\u001b[0m\u001b[1;33m\u001b[0m\u001b[1;33m\u001b[0m\u001b[0m\n",
      "\u001b[1;32mD:\\Program Files\\Anaconda\\lib\\urllib\\request.py\u001b[0m in \u001b[0;36mopen\u001b[1;34m(self, fullurl, data, timeout)\u001b[0m\n\u001b[0;32m    529\u001b[0m         \u001b[1;32mfor\u001b[0m \u001b[0mprocessor\u001b[0m \u001b[1;32min\u001b[0m \u001b[0mself\u001b[0m\u001b[1;33m.\u001b[0m\u001b[0mprocess_response\u001b[0m\u001b[1;33m.\u001b[0m\u001b[0mget\u001b[0m\u001b[1;33m(\u001b[0m\u001b[0mprotocol\u001b[0m\u001b[1;33m,\u001b[0m \u001b[1;33m[\u001b[0m\u001b[1;33m]\u001b[0m\u001b[1;33m)\u001b[0m\u001b[1;33m:\u001b[0m\u001b[1;33m\u001b[0m\u001b[1;33m\u001b[0m\u001b[0m\n\u001b[0;32m    530\u001b[0m             \u001b[0mmeth\u001b[0m \u001b[1;33m=\u001b[0m \u001b[0mgetattr\u001b[0m\u001b[1;33m(\u001b[0m\u001b[0mprocessor\u001b[0m\u001b[1;33m,\u001b[0m \u001b[0mmeth_name\u001b[0m\u001b[1;33m)\u001b[0m\u001b[1;33m\u001b[0m\u001b[1;33m\u001b[0m\u001b[0m\n\u001b[1;32m--> 531\u001b[1;33m             \u001b[0mresponse\u001b[0m \u001b[1;33m=\u001b[0m \u001b[0mmeth\u001b[0m\u001b[1;33m(\u001b[0m\u001b[0mreq\u001b[0m\u001b[1;33m,\u001b[0m \u001b[0mresponse\u001b[0m\u001b[1;33m)\u001b[0m\u001b[1;33m\u001b[0m\u001b[1;33m\u001b[0m\u001b[0m\n\u001b[0m\u001b[0;32m    532\u001b[0m \u001b[1;33m\u001b[0m\u001b[0m\n\u001b[0;32m    533\u001b[0m         \u001b[1;32mreturn\u001b[0m \u001b[0mresponse\u001b[0m\u001b[1;33m\u001b[0m\u001b[1;33m\u001b[0m\u001b[0m\n",
      "\u001b[1;32mD:\\Program Files\\Anaconda\\lib\\urllib\\request.py\u001b[0m in \u001b[0;36mhttp_response\u001b[1;34m(self, request, response)\u001b[0m\n\u001b[0;32m    639\u001b[0m         \u001b[1;32mif\u001b[0m \u001b[1;32mnot\u001b[0m \u001b[1;33m(\u001b[0m\u001b[1;36m200\u001b[0m \u001b[1;33m<=\u001b[0m \u001b[0mcode\u001b[0m \u001b[1;33m<\u001b[0m \u001b[1;36m300\u001b[0m\u001b[1;33m)\u001b[0m\u001b[1;33m:\u001b[0m\u001b[1;33m\u001b[0m\u001b[1;33m\u001b[0m\u001b[0m\n\u001b[0;32m    640\u001b[0m             response = self.parent.error(\n\u001b[1;32m--> 641\u001b[1;33m                 'http', request, response, code, msg, hdrs)\n\u001b[0m\u001b[0;32m    642\u001b[0m \u001b[1;33m\u001b[0m\u001b[0m\n\u001b[0;32m    643\u001b[0m         \u001b[1;32mreturn\u001b[0m \u001b[0mresponse\u001b[0m\u001b[1;33m\u001b[0m\u001b[1;33m\u001b[0m\u001b[0m\n",
      "\u001b[1;32mD:\\Program Files\\Anaconda\\lib\\urllib\\request.py\u001b[0m in \u001b[0;36merror\u001b[1;34m(self, proto, *args)\u001b[0m\n\u001b[0;32m    567\u001b[0m         \u001b[1;32mif\u001b[0m \u001b[0mhttp_err\u001b[0m\u001b[1;33m:\u001b[0m\u001b[1;33m\u001b[0m\u001b[1;33m\u001b[0m\u001b[0m\n\u001b[0;32m    568\u001b[0m             \u001b[0margs\u001b[0m \u001b[1;33m=\u001b[0m \u001b[1;33m(\u001b[0m\u001b[0mdict\u001b[0m\u001b[1;33m,\u001b[0m \u001b[1;34m'default'\u001b[0m\u001b[1;33m,\u001b[0m \u001b[1;34m'http_error_default'\u001b[0m\u001b[1;33m)\u001b[0m \u001b[1;33m+\u001b[0m \u001b[0morig_args\u001b[0m\u001b[1;33m\u001b[0m\u001b[1;33m\u001b[0m\u001b[0m\n\u001b[1;32m--> 569\u001b[1;33m             \u001b[1;32mreturn\u001b[0m \u001b[0mself\u001b[0m\u001b[1;33m.\u001b[0m\u001b[0m_call_chain\u001b[0m\u001b[1;33m(\u001b[0m\u001b[1;33m*\u001b[0m\u001b[0margs\u001b[0m\u001b[1;33m)\u001b[0m\u001b[1;33m\u001b[0m\u001b[1;33m\u001b[0m\u001b[0m\n\u001b[0m\u001b[0;32m    570\u001b[0m \u001b[1;33m\u001b[0m\u001b[0m\n\u001b[0;32m    571\u001b[0m \u001b[1;31m# XXX probably also want an abstract factory that knows when it makes\u001b[0m\u001b[1;33m\u001b[0m\u001b[1;33m\u001b[0m\u001b[1;33m\u001b[0m\u001b[0m\n",
      "\u001b[1;32mD:\\Program Files\\Anaconda\\lib\\urllib\\request.py\u001b[0m in \u001b[0;36m_call_chain\u001b[1;34m(self, chain, kind, meth_name, *args)\u001b[0m\n\u001b[0;32m    501\u001b[0m         \u001b[1;32mfor\u001b[0m \u001b[0mhandler\u001b[0m \u001b[1;32min\u001b[0m \u001b[0mhandlers\u001b[0m\u001b[1;33m:\u001b[0m\u001b[1;33m\u001b[0m\u001b[1;33m\u001b[0m\u001b[0m\n\u001b[0;32m    502\u001b[0m             \u001b[0mfunc\u001b[0m \u001b[1;33m=\u001b[0m \u001b[0mgetattr\u001b[0m\u001b[1;33m(\u001b[0m\u001b[0mhandler\u001b[0m\u001b[1;33m,\u001b[0m \u001b[0mmeth_name\u001b[0m\u001b[1;33m)\u001b[0m\u001b[1;33m\u001b[0m\u001b[1;33m\u001b[0m\u001b[0m\n\u001b[1;32m--> 503\u001b[1;33m             \u001b[0mresult\u001b[0m \u001b[1;33m=\u001b[0m \u001b[0mfunc\u001b[0m\u001b[1;33m(\u001b[0m\u001b[1;33m*\u001b[0m\u001b[0margs\u001b[0m\u001b[1;33m)\u001b[0m\u001b[1;33m\u001b[0m\u001b[1;33m\u001b[0m\u001b[0m\n\u001b[0m\u001b[0;32m    504\u001b[0m             \u001b[1;32mif\u001b[0m \u001b[0mresult\u001b[0m \u001b[1;32mis\u001b[0m \u001b[1;32mnot\u001b[0m \u001b[1;32mNone\u001b[0m\u001b[1;33m:\u001b[0m\u001b[1;33m\u001b[0m\u001b[1;33m\u001b[0m\u001b[0m\n\u001b[0;32m    505\u001b[0m                 \u001b[1;32mreturn\u001b[0m \u001b[0mresult\u001b[0m\u001b[1;33m\u001b[0m\u001b[1;33m\u001b[0m\u001b[0m\n",
      "\u001b[1;32mD:\\Program Files\\Anaconda\\lib\\urllib\\request.py\u001b[0m in \u001b[0;36mhttp_error_default\u001b[1;34m(self, req, fp, code, msg, hdrs)\u001b[0m\n\u001b[0;32m    647\u001b[0m \u001b[1;32mclass\u001b[0m \u001b[0mHTTPDefaultErrorHandler\u001b[0m\u001b[1;33m(\u001b[0m\u001b[0mBaseHandler\u001b[0m\u001b[1;33m)\u001b[0m\u001b[1;33m:\u001b[0m\u001b[1;33m\u001b[0m\u001b[1;33m\u001b[0m\u001b[0m\n\u001b[0;32m    648\u001b[0m     \u001b[1;32mdef\u001b[0m \u001b[0mhttp_error_default\u001b[0m\u001b[1;33m(\u001b[0m\u001b[0mself\u001b[0m\u001b[1;33m,\u001b[0m \u001b[0mreq\u001b[0m\u001b[1;33m,\u001b[0m \u001b[0mfp\u001b[0m\u001b[1;33m,\u001b[0m \u001b[0mcode\u001b[0m\u001b[1;33m,\u001b[0m \u001b[0mmsg\u001b[0m\u001b[1;33m,\u001b[0m \u001b[0mhdrs\u001b[0m\u001b[1;33m)\u001b[0m\u001b[1;33m:\u001b[0m\u001b[1;33m\u001b[0m\u001b[1;33m\u001b[0m\u001b[0m\n\u001b[1;32m--> 649\u001b[1;33m         \u001b[1;32mraise\u001b[0m \u001b[0mHTTPError\u001b[0m\u001b[1;33m(\u001b[0m\u001b[0mreq\u001b[0m\u001b[1;33m.\u001b[0m\u001b[0mfull_url\u001b[0m\u001b[1;33m,\u001b[0m \u001b[0mcode\u001b[0m\u001b[1;33m,\u001b[0m \u001b[0mmsg\u001b[0m\u001b[1;33m,\u001b[0m \u001b[0mhdrs\u001b[0m\u001b[1;33m,\u001b[0m \u001b[0mfp\u001b[0m\u001b[1;33m)\u001b[0m\u001b[1;33m\u001b[0m\u001b[1;33m\u001b[0m\u001b[0m\n\u001b[0m\u001b[0;32m    650\u001b[0m \u001b[1;33m\u001b[0m\u001b[0m\n\u001b[0;32m    651\u001b[0m \u001b[1;32mclass\u001b[0m \u001b[0mHTTPRedirectHandler\u001b[0m\u001b[1;33m(\u001b[0m\u001b[0mBaseHandler\u001b[0m\u001b[1;33m)\u001b[0m\u001b[1;33m:\u001b[0m\u001b[1;33m\u001b[0m\u001b[1;33m\u001b[0m\u001b[0m\n",
      "\u001b[1;31mHTTPError\u001b[0m: HTTP Error 502: Bad Gateway"
     ]
    },
    {
     "data": {
      "image/png": "[encoded data removed]",
      "text/plain": [
       "<Figure size 1440x1440 with 1 Axes>"
      ]
     },
     "metadata": {
      "needs_background": "light"
     },
     "output_type": "display_data"
    }
   ],
   "source": [
    "fig = plt.gcf()\n",
    "fig.set_size_inches(20, 20)\n",
    "\n",
    "m = Basemap(epsg=3577, \\\n",
    "            llcrnrlat=-32.7, urcrnrlat=-31.6, \\\n",
    "            llcrnrlon=115, urcrnrlon=116.2, \\\n",
    "            lat_ts=20, \\\n",
    "            resolution='h')\n",
    "\n",
    "m.arcgisimage(service='NatGeo_World_Map', xpixels = 1500, verbose= True)\n",
    "x, y = m(lons, lats)  # transform coordinates\n",
    "plt.scatter(x, y, color = 'red', marker='D',s=1) \n",
    "\n",
    "plt.show()"
   ]
  },
  {
   "cell_type": "code",
   "execution_count": null,
   "metadata": {},
   "outputs": [],
   "source": [
    "corr = shark_df.corr()\n",
    "corr.style.background_gradient(cmap='coolwarm')"
   ]
  },
  {
   "cell_type": "code",
   "execution_count": null,
   "metadata": {},
   "outputs": [],
   "source": [
    "shark_df.to_csv(\"shark.csv\")"
   ]
  }
 ],
 "metadata": {
  "kernelspec": {
   "display_name": "Python 3",
   "language": "python",
   "name": "python3"
  },
  "language_info": {
   "codemirror_mode": {
    "name": "ipython",
    "version": 3
   },
   "file_extension": ".py",
   "mimetype": "text/x-python",
   "name": "python",
   "nbconvert_exporter": "python",
   "pygments_lexer": "ipython3",
   "version": "3.7.6"
  }
 },
 "nbformat": 4,
 "nbformat_minor": 4
}
